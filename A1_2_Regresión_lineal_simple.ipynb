{
  "nbformat": 4,
  "nbformat_minor": 0,
  "metadata": {
    "colab": {
      "provenance": []
    },
    "kernelspec": {
      "name": "python3",
      "display_name": "Python 3"
    },
    "language_info": {
      "name": "python"
    }
  },
  "cells": [
    {
      "cell_type": "markdown",
      "source": [
        "### **A1.2 Regresión lineal simple**"
      ],
      "metadata": {
        "id": "HM4cTi4ygQ3J"
      }
    },
    {
      "cell_type": "markdown",
      "source": [
        "**1.** En la siguiente celda se importa la base de datos \"Felicidad y GDP.csv\" usando la función **read_csv()** de la librería **pandas**. El archivo proporciona datos sobre el nivel de felicidad y producto interno bruto (GDP) sobre 141 países diferentes.\n",
        "\n",
        "Usando la función **head()** con un parámetro de 10, se imprimen las primeras 10 filas. La base de datos esta previamente ordenada de forma descendente tomando en cuenta el nivel de felicidad por lo cual se muestran los 10 países con mayor nivel de felicidad."
      ],
      "metadata": {
        "id": "TtNEit3EjtIj"
      }
    },
    {
      "cell_type": "code",
      "execution_count": 152,
      "metadata": {
        "colab": {
          "base_uri": "https://localhost:8080/",
          "height": 397
        },
        "id": "0ky-2BN7f3oL",
        "outputId": "4305ad2c-b82f-40ad-d60f-cc47c08198d0"
      },
      "outputs": [
        {
          "output_type": "stream",
          "name": "stdout",
          "text": [
            "Top 10 países más felices \n",
            "\n"
          ]
        },
        {
          "output_type": "execute_result",
          "data": {
            "text/plain": [
              "          Pais  Felicidad           GDP\n",
              "0      Finland     7.8210  2.718370e+11\n",
              "1      Denmark     7.6362  3.560850e+11\n",
              "2      Iceland     7.5575  2.171808e+10\n",
              "3  Switzerland     7.5116  7.522480e+11\n",
              "4  Netherlands     7.4149  9.138650e+11\n",
              "5   Luxembourg     7.4040  7.335313e+10\n",
              "6       Sweden     7.3843  5.414870e+11\n",
              "7       Norway     7.3651  3.621980e+11\n",
              "8       Israel     7.3638  4.071010e+11\n",
              "9  New Zealand     7.1998  2.117350e+11"
            ],
            "text/html": [
              "\n",
              "  <div id=\"df-eeb17b95-2378-456c-8d4e-688599cfe863\" class=\"colab-df-container\">\n",
              "    <div>\n",
              "<style scoped>\n",
              "    .dataframe tbody tr th:only-of-type {\n",
              "        vertical-align: middle;\n",
              "    }\n",
              "\n",
              "    .dataframe tbody tr th {\n",
              "        vertical-align: top;\n",
              "    }\n",
              "\n",
              "    .dataframe thead th {\n",
              "        text-align: right;\n",
              "    }\n",
              "</style>\n",
              "<table border=\"1\" class=\"dataframe\">\n",
              "  <thead>\n",
              "    <tr style=\"text-align: right;\">\n",
              "      <th></th>\n",
              "      <th>Pais</th>\n",
              "      <th>Felicidad</th>\n",
              "      <th>GDP</th>\n",
              "    </tr>\n",
              "  </thead>\n",
              "  <tbody>\n",
              "    <tr>\n",
              "      <th>0</th>\n",
              "      <td>Finland</td>\n",
              "      <td>7.8210</td>\n",
              "      <td>2.718370e+11</td>\n",
              "    </tr>\n",
              "    <tr>\n",
              "      <th>1</th>\n",
              "      <td>Denmark</td>\n",
              "      <td>7.6362</td>\n",
              "      <td>3.560850e+11</td>\n",
              "    </tr>\n",
              "    <tr>\n",
              "      <th>2</th>\n",
              "      <td>Iceland</td>\n",
              "      <td>7.5575</td>\n",
              "      <td>2.171808e+10</td>\n",
              "    </tr>\n",
              "    <tr>\n",
              "      <th>3</th>\n",
              "      <td>Switzerland</td>\n",
              "      <td>7.5116</td>\n",
              "      <td>7.522480e+11</td>\n",
              "    </tr>\n",
              "    <tr>\n",
              "      <th>4</th>\n",
              "      <td>Netherlands</td>\n",
              "      <td>7.4149</td>\n",
              "      <td>9.138650e+11</td>\n",
              "    </tr>\n",
              "    <tr>\n",
              "      <th>5</th>\n",
              "      <td>Luxembourg</td>\n",
              "      <td>7.4040</td>\n",
              "      <td>7.335313e+10</td>\n",
              "    </tr>\n",
              "    <tr>\n",
              "      <th>6</th>\n",
              "      <td>Sweden</td>\n",
              "      <td>7.3843</td>\n",
              "      <td>5.414870e+11</td>\n",
              "    </tr>\n",
              "    <tr>\n",
              "      <th>7</th>\n",
              "      <td>Norway</td>\n",
              "      <td>7.3651</td>\n",
              "      <td>3.621980e+11</td>\n",
              "    </tr>\n",
              "    <tr>\n",
              "      <th>8</th>\n",
              "      <td>Israel</td>\n",
              "      <td>7.3638</td>\n",
              "      <td>4.071010e+11</td>\n",
              "    </tr>\n",
              "    <tr>\n",
              "      <th>9</th>\n",
              "      <td>New Zealand</td>\n",
              "      <td>7.1998</td>\n",
              "      <td>2.117350e+11</td>\n",
              "    </tr>\n",
              "  </tbody>\n",
              "</table>\n",
              "</div>\n",
              "    <div class=\"colab-df-buttons\">\n",
              "\n",
              "  <div class=\"colab-df-container\">\n",
              "    <button class=\"colab-df-convert\" onclick=\"convertToInteractive('df-eeb17b95-2378-456c-8d4e-688599cfe863')\"\n",
              "            title=\"Convert this dataframe to an interactive table.\"\n",
              "            style=\"display:none;\">\n",
              "\n",
              "  <svg xmlns=\"http://www.w3.org/2000/svg\" height=\"24px\" viewBox=\"0 -960 960 960\">\n",
              "    <path d=\"M120-120v-720h720v720H120Zm60-500h600v-160H180v160Zm220 220h160v-160H400v160Zm0 220h160v-160H400v160ZM180-400h160v-160H180v160Zm440 0h160v-160H620v160ZM180-180h160v-160H180v160Zm440 0h160v-160H620v160Z\"/>\n",
              "  </svg>\n",
              "    </button>\n",
              "\n",
              "  <style>\n",
              "    .colab-df-container {\n",
              "      display:flex;\n",
              "      gap: 12px;\n",
              "    }\n",
              "\n",
              "    .colab-df-convert {\n",
              "      background-color: #E8F0FE;\n",
              "      border: none;\n",
              "      border-radius: 50%;\n",
              "      cursor: pointer;\n",
              "      display: none;\n",
              "      fill: #1967D2;\n",
              "      height: 32px;\n",
              "      padding: 0 0 0 0;\n",
              "      width: 32px;\n",
              "    }\n",
              "\n",
              "    .colab-df-convert:hover {\n",
              "      background-color: #E2EBFA;\n",
              "      box-shadow: 0px 1px 2px rgba(60, 64, 67, 0.3), 0px 1px 3px 1px rgba(60, 64, 67, 0.15);\n",
              "      fill: #174EA6;\n",
              "    }\n",
              "\n",
              "    .colab-df-buttons div {\n",
              "      margin-bottom: 4px;\n",
              "    }\n",
              "\n",
              "    [theme=dark] .colab-df-convert {\n",
              "      background-color: #3B4455;\n",
              "      fill: #D2E3FC;\n",
              "    }\n",
              "\n",
              "    [theme=dark] .colab-df-convert:hover {\n",
              "      background-color: #434B5C;\n",
              "      box-shadow: 0px 1px 3px 1px rgba(0, 0, 0, 0.15);\n",
              "      filter: drop-shadow(0px 1px 2px rgba(0, 0, 0, 0.3));\n",
              "      fill: #FFFFFF;\n",
              "    }\n",
              "  </style>\n",
              "\n",
              "    <script>\n",
              "      const buttonEl =\n",
              "        document.querySelector('#df-eeb17b95-2378-456c-8d4e-688599cfe863 button.colab-df-convert');\n",
              "      buttonEl.style.display =\n",
              "        google.colab.kernel.accessAllowed ? 'block' : 'none';\n",
              "\n",
              "      async function convertToInteractive(key) {\n",
              "        const element = document.querySelector('#df-eeb17b95-2378-456c-8d4e-688599cfe863');\n",
              "        const dataTable =\n",
              "          await google.colab.kernel.invokeFunction('convertToInteractive',\n",
              "                                                    [key], {});\n",
              "        if (!dataTable) return;\n",
              "\n",
              "        const docLinkHtml = 'Like what you see? Visit the ' +\n",
              "          '<a target=\"_blank\" href=https://colab.research.google.com/notebooks/data_table.ipynb>data table notebook</a>'\n",
              "          + ' to learn more about interactive tables.';\n",
              "        element.innerHTML = '';\n",
              "        dataTable['output_type'] = 'display_data';\n",
              "        await google.colab.output.renderOutput(dataTable, element);\n",
              "        const docLink = document.createElement('div');\n",
              "        docLink.innerHTML = docLinkHtml;\n",
              "        element.appendChild(docLink);\n",
              "      }\n",
              "    </script>\n",
              "  </div>\n",
              "\n",
              "\n",
              "<div id=\"df-f3e00ce8-4998-47b2-abde-a86babce81ba\">\n",
              "  <button class=\"colab-df-quickchart\" onclick=\"quickchart('df-f3e00ce8-4998-47b2-abde-a86babce81ba')\"\n",
              "            title=\"Suggest charts\"\n",
              "            style=\"display:none;\">\n",
              "\n",
              "<svg xmlns=\"http://www.w3.org/2000/svg\" height=\"24px\"viewBox=\"0 0 24 24\"\n",
              "     width=\"24px\">\n",
              "    <g>\n",
              "        <path d=\"M19 3H5c-1.1 0-2 .9-2 2v14c0 1.1.9 2 2 2h14c1.1 0 2-.9 2-2V5c0-1.1-.9-2-2-2zM9 17H7v-7h2v7zm4 0h-2V7h2v10zm4 0h-2v-4h2v4z\"/>\n",
              "    </g>\n",
              "</svg>\n",
              "  </button>\n",
              "\n",
              "<style>\n",
              "  .colab-df-quickchart {\n",
              "      --bg-color: #E8F0FE;\n",
              "      --fill-color: #1967D2;\n",
              "      --hover-bg-color: #E2EBFA;\n",
              "      --hover-fill-color: #174EA6;\n",
              "      --disabled-fill-color: #AAA;\n",
              "      --disabled-bg-color: #DDD;\n",
              "  }\n",
              "\n",
              "  [theme=dark] .colab-df-quickchart {\n",
              "      --bg-color: #3B4455;\n",
              "      --fill-color: #D2E3FC;\n",
              "      --hover-bg-color: #434B5C;\n",
              "      --hover-fill-color: #FFFFFF;\n",
              "      --disabled-bg-color: #3B4455;\n",
              "      --disabled-fill-color: #666;\n",
              "  }\n",
              "\n",
              "  .colab-df-quickchart {\n",
              "    background-color: var(--bg-color);\n",
              "    border: none;\n",
              "    border-radius: 50%;\n",
              "    cursor: pointer;\n",
              "    display: none;\n",
              "    fill: var(--fill-color);\n",
              "    height: 32px;\n",
              "    padding: 0;\n",
              "    width: 32px;\n",
              "  }\n",
              "\n",
              "  .colab-df-quickchart:hover {\n",
              "    background-color: var(--hover-bg-color);\n",
              "    box-shadow: 0 1px 2px rgba(60, 64, 67, 0.3), 0 1px 3px 1px rgba(60, 64, 67, 0.15);\n",
              "    fill: var(--button-hover-fill-color);\n",
              "  }\n",
              "\n",
              "  .colab-df-quickchart-complete:disabled,\n",
              "  .colab-df-quickchart-complete:disabled:hover {\n",
              "    background-color: var(--disabled-bg-color);\n",
              "    fill: var(--disabled-fill-color);\n",
              "    box-shadow: none;\n",
              "  }\n",
              "\n",
              "  .colab-df-spinner {\n",
              "    border: 2px solid var(--fill-color);\n",
              "    border-color: transparent;\n",
              "    border-bottom-color: var(--fill-color);\n",
              "    animation:\n",
              "      spin 1s steps(1) infinite;\n",
              "  }\n",
              "\n",
              "  @keyframes spin {\n",
              "    0% {\n",
              "      border-color: transparent;\n",
              "      border-bottom-color: var(--fill-color);\n",
              "      border-left-color: var(--fill-color);\n",
              "    }\n",
              "    20% {\n",
              "      border-color: transparent;\n",
              "      border-left-color: var(--fill-color);\n",
              "      border-top-color: var(--fill-color);\n",
              "    }\n",
              "    30% {\n",
              "      border-color: transparent;\n",
              "      border-left-color: var(--fill-color);\n",
              "      border-top-color: var(--fill-color);\n",
              "      border-right-color: var(--fill-color);\n",
              "    }\n",
              "    40% {\n",
              "      border-color: transparent;\n",
              "      border-right-color: var(--fill-color);\n",
              "      border-top-color: var(--fill-color);\n",
              "    }\n",
              "    60% {\n",
              "      border-color: transparent;\n",
              "      border-right-color: var(--fill-color);\n",
              "    }\n",
              "    80% {\n",
              "      border-color: transparent;\n",
              "      border-right-color: var(--fill-color);\n",
              "      border-bottom-color: var(--fill-color);\n",
              "    }\n",
              "    90% {\n",
              "      border-color: transparent;\n",
              "      border-bottom-color: var(--fill-color);\n",
              "    }\n",
              "  }\n",
              "</style>\n",
              "\n",
              "  <script>\n",
              "    async function quickchart(key) {\n",
              "      const quickchartButtonEl =\n",
              "        document.querySelector('#' + key + ' button');\n",
              "      quickchartButtonEl.disabled = true;  // To prevent multiple clicks.\n",
              "      quickchartButtonEl.classList.add('colab-df-spinner');\n",
              "      try {\n",
              "        const charts = await google.colab.kernel.invokeFunction(\n",
              "            'suggestCharts', [key], {});\n",
              "      } catch (error) {\n",
              "        console.error('Error during call to suggestCharts:', error);\n",
              "      }\n",
              "      quickchartButtonEl.classList.remove('colab-df-spinner');\n",
              "      quickchartButtonEl.classList.add('colab-df-quickchart-complete');\n",
              "    }\n",
              "    (() => {\n",
              "      let quickchartButtonEl =\n",
              "        document.querySelector('#df-f3e00ce8-4998-47b2-abde-a86babce81ba button');\n",
              "      quickchartButtonEl.style.display =\n",
              "        google.colab.kernel.accessAllowed ? 'block' : 'none';\n",
              "    })();\n",
              "  </script>\n",
              "</div>\n",
              "\n",
              "    </div>\n",
              "  </div>\n"
            ],
            "application/vnd.google.colaboratory.intrinsic+json": {
              "type": "dataframe",
              "variable_name": "df",
              "summary": "{\n  \"name\": \"df\",\n  \"rows\": 141,\n  \"fields\": [\n    {\n      \"column\": \"Pais\",\n      \"properties\": {\n        \"dtype\": \"string\",\n        \"num_unique_values\": 141,\n        \"samples\": [\n          \"Malaysia\",\n          \"Burkina Faso\",\n          \"Malta\"\n        ],\n        \"semantic_type\": \"\",\n        \"description\": \"\"\n      }\n    },\n    {\n      \"column\": \"Felicidad\",\n      \"properties\": {\n        \"dtype\": \"number\",\n        \"std\": 1.0980111485130928,\n        \"min\": 2.403800011,\n        \"max\": 7.821000099,\n        \"num_unique_values\": 141,\n        \"samples\": [\n          5.711299896,\n          4.670499802,\n          6.446899891\n        ],\n        \"semantic_type\": \"\",\n        \"description\": \"\"\n      }\n    },\n    {\n      \"column\": \"GDP\",\n      \"properties\": {\n        \"dtype\": \"number\",\n        \"std\": 2221611792399.3096,\n        \"min\": 1223876065.0,\n        \"max\": 20893700000000.0,\n        \"num_unique_values\": 141,\n        \"samples\": [\n          337006000000.0,\n          17933606353.0,\n          14917038504.0\n        ],\n        \"semantic_type\": \"\",\n        \"description\": \"\"\n      }\n    }\n  ]\n}"
            }
          },
          "metadata": {},
          "execution_count": 152
        }
      ],
      "source": [
        "import pandas as pd\n",
        "df = pd.read_csv(\"A1.2 Felicidad y GDP.csv\")\n",
        "print('Top 10 países más felices \\n')\n",
        "df.head(10)"
      ]
    },
    {
      "cell_type": "markdown",
      "source": [
        "A continuación, se reorganiza la base de datos utilizando la función **sort_values()** para mostrar de forma descendente los 10 países con mayor GDP."
      ],
      "metadata": {
        "id": "Vb4qAL0JJuhv"
      }
    },
    {
      "cell_type": "code",
      "source": [
        "df.sort_values('GDP',ascending = False);\n",
        "print()\n",
        "print('Top 10 países con mayor GDP \\n')\n",
        "df.head(10)"
      ],
      "metadata": {
        "colab": {
          "base_uri": "https://localhost:8080/",
          "height": 415
        },
        "id": "zTGloDidJeyc",
        "outputId": "2c6600a3-9046-434c-b632-5143060e8c5b"
      },
      "execution_count": 153,
      "outputs": [
        {
          "output_type": "stream",
          "name": "stdout",
          "text": [
            "\n",
            "Top 10 países con mayor GDP \n",
            "\n"
          ]
        },
        {
          "output_type": "execute_result",
          "data": {
            "text/plain": [
              "          Pais  Felicidad           GDP\n",
              "0      Finland     7.8210  2.718370e+11\n",
              "1      Denmark     7.6362  3.560850e+11\n",
              "2      Iceland     7.5575  2.171808e+10\n",
              "3  Switzerland     7.5116  7.522480e+11\n",
              "4  Netherlands     7.4149  9.138650e+11\n",
              "5   Luxembourg     7.4040  7.335313e+10\n",
              "6       Sweden     7.3843  5.414870e+11\n",
              "7       Norway     7.3651  3.621980e+11\n",
              "8       Israel     7.3638  4.071010e+11\n",
              "9  New Zealand     7.1998  2.117350e+11"
            ],
            "text/html": [
              "\n",
              "  <div id=\"df-20600376-a75a-40ba-8d0f-025b53b3f506\" class=\"colab-df-container\">\n",
              "    <div>\n",
              "<style scoped>\n",
              "    .dataframe tbody tr th:only-of-type {\n",
              "        vertical-align: middle;\n",
              "    }\n",
              "\n",
              "    .dataframe tbody tr th {\n",
              "        vertical-align: top;\n",
              "    }\n",
              "\n",
              "    .dataframe thead th {\n",
              "        text-align: right;\n",
              "    }\n",
              "</style>\n",
              "<table border=\"1\" class=\"dataframe\">\n",
              "  <thead>\n",
              "    <tr style=\"text-align: right;\">\n",
              "      <th></th>\n",
              "      <th>Pais</th>\n",
              "      <th>Felicidad</th>\n",
              "      <th>GDP</th>\n",
              "    </tr>\n",
              "  </thead>\n",
              "  <tbody>\n",
              "    <tr>\n",
              "      <th>0</th>\n",
              "      <td>Finland</td>\n",
              "      <td>7.8210</td>\n",
              "      <td>2.718370e+11</td>\n",
              "    </tr>\n",
              "    <tr>\n",
              "      <th>1</th>\n",
              "      <td>Denmark</td>\n",
              "      <td>7.6362</td>\n",
              "      <td>3.560850e+11</td>\n",
              "    </tr>\n",
              "    <tr>\n",
              "      <th>2</th>\n",
              "      <td>Iceland</td>\n",
              "      <td>7.5575</td>\n",
              "      <td>2.171808e+10</td>\n",
              "    </tr>\n",
              "    <tr>\n",
              "      <th>3</th>\n",
              "      <td>Switzerland</td>\n",
              "      <td>7.5116</td>\n",
              "      <td>7.522480e+11</td>\n",
              "    </tr>\n",
              "    <tr>\n",
              "      <th>4</th>\n",
              "      <td>Netherlands</td>\n",
              "      <td>7.4149</td>\n",
              "      <td>9.138650e+11</td>\n",
              "    </tr>\n",
              "    <tr>\n",
              "      <th>5</th>\n",
              "      <td>Luxembourg</td>\n",
              "      <td>7.4040</td>\n",
              "      <td>7.335313e+10</td>\n",
              "    </tr>\n",
              "    <tr>\n",
              "      <th>6</th>\n",
              "      <td>Sweden</td>\n",
              "      <td>7.3843</td>\n",
              "      <td>5.414870e+11</td>\n",
              "    </tr>\n",
              "    <tr>\n",
              "      <th>7</th>\n",
              "      <td>Norway</td>\n",
              "      <td>7.3651</td>\n",
              "      <td>3.621980e+11</td>\n",
              "    </tr>\n",
              "    <tr>\n",
              "      <th>8</th>\n",
              "      <td>Israel</td>\n",
              "      <td>7.3638</td>\n",
              "      <td>4.071010e+11</td>\n",
              "    </tr>\n",
              "    <tr>\n",
              "      <th>9</th>\n",
              "      <td>New Zealand</td>\n",
              "      <td>7.1998</td>\n",
              "      <td>2.117350e+11</td>\n",
              "    </tr>\n",
              "  </tbody>\n",
              "</table>\n",
              "</div>\n",
              "    <div class=\"colab-df-buttons\">\n",
              "\n",
              "  <div class=\"colab-df-container\">\n",
              "    <button class=\"colab-df-convert\" onclick=\"convertToInteractive('df-20600376-a75a-40ba-8d0f-025b53b3f506')\"\n",
              "            title=\"Convert this dataframe to an interactive table.\"\n",
              "            style=\"display:none;\">\n",
              "\n",
              "  <svg xmlns=\"http://www.w3.org/2000/svg\" height=\"24px\" viewBox=\"0 -960 960 960\">\n",
              "    <path d=\"M120-120v-720h720v720H120Zm60-500h600v-160H180v160Zm220 220h160v-160H400v160Zm0 220h160v-160H400v160ZM180-400h160v-160H180v160Zm440 0h160v-160H620v160ZM180-180h160v-160H180v160Zm440 0h160v-160H620v160Z\"/>\n",
              "  </svg>\n",
              "    </button>\n",
              "\n",
              "  <style>\n",
              "    .colab-df-container {\n",
              "      display:flex;\n",
              "      gap: 12px;\n",
              "    }\n",
              "\n",
              "    .colab-df-convert {\n",
              "      background-color: #E8F0FE;\n",
              "      border: none;\n",
              "      border-radius: 50%;\n",
              "      cursor: pointer;\n",
              "      display: none;\n",
              "      fill: #1967D2;\n",
              "      height: 32px;\n",
              "      padding: 0 0 0 0;\n",
              "      width: 32px;\n",
              "    }\n",
              "\n",
              "    .colab-df-convert:hover {\n",
              "      background-color: #E2EBFA;\n",
              "      box-shadow: 0px 1px 2px rgba(60, 64, 67, 0.3), 0px 1px 3px 1px rgba(60, 64, 67, 0.15);\n",
              "      fill: #174EA6;\n",
              "    }\n",
              "\n",
              "    .colab-df-buttons div {\n",
              "      margin-bottom: 4px;\n",
              "    }\n",
              "\n",
              "    [theme=dark] .colab-df-convert {\n",
              "      background-color: #3B4455;\n",
              "      fill: #D2E3FC;\n",
              "    }\n",
              "\n",
              "    [theme=dark] .colab-df-convert:hover {\n",
              "      background-color: #434B5C;\n",
              "      box-shadow: 0px 1px 3px 1px rgba(0, 0, 0, 0.15);\n",
              "      filter: drop-shadow(0px 1px 2px rgba(0, 0, 0, 0.3));\n",
              "      fill: #FFFFFF;\n",
              "    }\n",
              "  </style>\n",
              "\n",
              "    <script>\n",
              "      const buttonEl =\n",
              "        document.querySelector('#df-20600376-a75a-40ba-8d0f-025b53b3f506 button.colab-df-convert');\n",
              "      buttonEl.style.display =\n",
              "        google.colab.kernel.accessAllowed ? 'block' : 'none';\n",
              "\n",
              "      async function convertToInteractive(key) {\n",
              "        const element = document.querySelector('#df-20600376-a75a-40ba-8d0f-025b53b3f506');\n",
              "        const dataTable =\n",
              "          await google.colab.kernel.invokeFunction('convertToInteractive',\n",
              "                                                    [key], {});\n",
              "        if (!dataTable) return;\n",
              "\n",
              "        const docLinkHtml = 'Like what you see? Visit the ' +\n",
              "          '<a target=\"_blank\" href=https://colab.research.google.com/notebooks/data_table.ipynb>data table notebook</a>'\n",
              "          + ' to learn more about interactive tables.';\n",
              "        element.innerHTML = '';\n",
              "        dataTable['output_type'] = 'display_data';\n",
              "        await google.colab.output.renderOutput(dataTable, element);\n",
              "        const docLink = document.createElement('div');\n",
              "        docLink.innerHTML = docLinkHtml;\n",
              "        element.appendChild(docLink);\n",
              "      }\n",
              "    </script>\n",
              "  </div>\n",
              "\n",
              "\n",
              "<div id=\"df-ce9e291d-883a-4882-a38b-0074abee4afb\">\n",
              "  <button class=\"colab-df-quickchart\" onclick=\"quickchart('df-ce9e291d-883a-4882-a38b-0074abee4afb')\"\n",
              "            title=\"Suggest charts\"\n",
              "            style=\"display:none;\">\n",
              "\n",
              "<svg xmlns=\"http://www.w3.org/2000/svg\" height=\"24px\"viewBox=\"0 0 24 24\"\n",
              "     width=\"24px\">\n",
              "    <g>\n",
              "        <path d=\"M19 3H5c-1.1 0-2 .9-2 2v14c0 1.1.9 2 2 2h14c1.1 0 2-.9 2-2V5c0-1.1-.9-2-2-2zM9 17H7v-7h2v7zm4 0h-2V7h2v10zm4 0h-2v-4h2v4z\"/>\n",
              "    </g>\n",
              "</svg>\n",
              "  </button>\n",
              "\n",
              "<style>\n",
              "  .colab-df-quickchart {\n",
              "      --bg-color: #E8F0FE;\n",
              "      --fill-color: #1967D2;\n",
              "      --hover-bg-color: #E2EBFA;\n",
              "      --hover-fill-color: #174EA6;\n",
              "      --disabled-fill-color: #AAA;\n",
              "      --disabled-bg-color: #DDD;\n",
              "  }\n",
              "\n",
              "  [theme=dark] .colab-df-quickchart {\n",
              "      --bg-color: #3B4455;\n",
              "      --fill-color: #D2E3FC;\n",
              "      --hover-bg-color: #434B5C;\n",
              "      --hover-fill-color: #FFFFFF;\n",
              "      --disabled-bg-color: #3B4455;\n",
              "      --disabled-fill-color: #666;\n",
              "  }\n",
              "\n",
              "  .colab-df-quickchart {\n",
              "    background-color: var(--bg-color);\n",
              "    border: none;\n",
              "    border-radius: 50%;\n",
              "    cursor: pointer;\n",
              "    display: none;\n",
              "    fill: var(--fill-color);\n",
              "    height: 32px;\n",
              "    padding: 0;\n",
              "    width: 32px;\n",
              "  }\n",
              "\n",
              "  .colab-df-quickchart:hover {\n",
              "    background-color: var(--hover-bg-color);\n",
              "    box-shadow: 0 1px 2px rgba(60, 64, 67, 0.3), 0 1px 3px 1px rgba(60, 64, 67, 0.15);\n",
              "    fill: var(--button-hover-fill-color);\n",
              "  }\n",
              "\n",
              "  .colab-df-quickchart-complete:disabled,\n",
              "  .colab-df-quickchart-complete:disabled:hover {\n",
              "    background-color: var(--disabled-bg-color);\n",
              "    fill: var(--disabled-fill-color);\n",
              "    box-shadow: none;\n",
              "  }\n",
              "\n",
              "  .colab-df-spinner {\n",
              "    border: 2px solid var(--fill-color);\n",
              "    border-color: transparent;\n",
              "    border-bottom-color: var(--fill-color);\n",
              "    animation:\n",
              "      spin 1s steps(1) infinite;\n",
              "  }\n",
              "\n",
              "  @keyframes spin {\n",
              "    0% {\n",
              "      border-color: transparent;\n",
              "      border-bottom-color: var(--fill-color);\n",
              "      border-left-color: var(--fill-color);\n",
              "    }\n",
              "    20% {\n",
              "      border-color: transparent;\n",
              "      border-left-color: var(--fill-color);\n",
              "      border-top-color: var(--fill-color);\n",
              "    }\n",
              "    30% {\n",
              "      border-color: transparent;\n",
              "      border-left-color: var(--fill-color);\n",
              "      border-top-color: var(--fill-color);\n",
              "      border-right-color: var(--fill-color);\n",
              "    }\n",
              "    40% {\n",
              "      border-color: transparent;\n",
              "      border-right-color: var(--fill-color);\n",
              "      border-top-color: var(--fill-color);\n",
              "    }\n",
              "    60% {\n",
              "      border-color: transparent;\n",
              "      border-right-color: var(--fill-color);\n",
              "    }\n",
              "    80% {\n",
              "      border-color: transparent;\n",
              "      border-right-color: var(--fill-color);\n",
              "      border-bottom-color: var(--fill-color);\n",
              "    }\n",
              "    90% {\n",
              "      border-color: transparent;\n",
              "      border-bottom-color: var(--fill-color);\n",
              "    }\n",
              "  }\n",
              "</style>\n",
              "\n",
              "  <script>\n",
              "    async function quickchart(key) {\n",
              "      const quickchartButtonEl =\n",
              "        document.querySelector('#' + key + ' button');\n",
              "      quickchartButtonEl.disabled = true;  // To prevent multiple clicks.\n",
              "      quickchartButtonEl.classList.add('colab-df-spinner');\n",
              "      try {\n",
              "        const charts = await google.colab.kernel.invokeFunction(\n",
              "            'suggestCharts', [key], {});\n",
              "      } catch (error) {\n",
              "        console.error('Error during call to suggestCharts:', error);\n",
              "      }\n",
              "      quickchartButtonEl.classList.remove('colab-df-spinner');\n",
              "      quickchartButtonEl.classList.add('colab-df-quickchart-complete');\n",
              "    }\n",
              "    (() => {\n",
              "      let quickchartButtonEl =\n",
              "        document.querySelector('#df-ce9e291d-883a-4882-a38b-0074abee4afb button');\n",
              "      quickchartButtonEl.style.display =\n",
              "        google.colab.kernel.accessAllowed ? 'block' : 'none';\n",
              "    })();\n",
              "  </script>\n",
              "</div>\n",
              "\n",
              "    </div>\n",
              "  </div>\n"
            ],
            "application/vnd.google.colaboratory.intrinsic+json": {
              "type": "dataframe",
              "variable_name": "df",
              "summary": "{\n  \"name\": \"df\",\n  \"rows\": 141,\n  \"fields\": [\n    {\n      \"column\": \"Pais\",\n      \"properties\": {\n        \"dtype\": \"string\",\n        \"num_unique_values\": 141,\n        \"samples\": [\n          \"Malaysia\",\n          \"Burkina Faso\",\n          \"Malta\"\n        ],\n        \"semantic_type\": \"\",\n        \"description\": \"\"\n      }\n    },\n    {\n      \"column\": \"Felicidad\",\n      \"properties\": {\n        \"dtype\": \"number\",\n        \"std\": 1.0980111485130928,\n        \"min\": 2.403800011,\n        \"max\": 7.821000099,\n        \"num_unique_values\": 141,\n        \"samples\": [\n          5.711299896,\n          4.670499802,\n          6.446899891\n        ],\n        \"semantic_type\": \"\",\n        \"description\": \"\"\n      }\n    },\n    {\n      \"column\": \"GDP\",\n      \"properties\": {\n        \"dtype\": \"number\",\n        \"std\": 2221611792399.3096,\n        \"min\": 1223876065.0,\n        \"max\": 20893700000000.0,\n        \"num_unique_values\": 141,\n        \"samples\": [\n          337006000000.0,\n          17933606353.0,\n          14917038504.0\n        ],\n        \"semantic_type\": \"\",\n        \"description\": \"\"\n      }\n    }\n  ]\n}"
            }
          },
          "metadata": {},
          "execution_count": 153
        }
      ]
    },
    {
      "cell_type": "markdown",
      "source": [
        "**2.** En la siguiente celda, se utiliza la librería **matplotlib.pyplot (plt)** para graficar los datos del archivo. Al estar trabajando con números grandes hablando de GDP, como variable independiente se utilizará el logarítmo base 10 del GDP en lugar del valor mismo. Para encontrar dicho logarítmo se importa la librería **numpy (np)** para utilizar su función **log10()**.\n",
        "\n",
        "Usando la función **plt.scatter()** (y algunas otras funciones para modificar formato) se grafican:\n",
        "\n",
        " **x: logarítmo base 10 del GDP**\n",
        "\n",
        "  **y: nivel de felicidad**."
      ],
      "metadata": {
        "id": "EtbC-bCzKQib"
      }
    },
    {
      "cell_type": "code",
      "source": [
        "import numpy as np\n",
        "import matplotlib.pyplot as plt\n",
        "y = df['Felicidad'].values\n",
        "x = np.log10(df['GDP'].values)\n",
        "plt.scatter(x,y,label='Datos', alpha=0.75,color=\"blueviolet\");\n",
        "plt.title(\"Relación entre Nivel de Felicidad y GDP\")\n",
        "plt.xlabel(\"Logarítmo base 10 de GDP\");\n",
        "plt.ylabel(\"Nivel de Felicidad\");\n",
        "plt.grid();\n",
        "plt.legend();"
      ],
      "metadata": {
        "colab": {
          "base_uri": "https://localhost:8080/",
          "height": 473
        },
        "id": "Vpz5Pdy8kYQ9",
        "outputId": "d17a0dfc-a9c1-411a-9b44-4bce7a18189e"
      },
      "execution_count": 154,
      "outputs": [
        {
          "output_type": "display_data",
          "data": {
            "text/plain": [
              "<Figure size 640x480 with 1 Axes>"
            ],
            "image/png": "[encoded data removed]"
          },
          "metadata": {}
        }
      ]
    },
    {
      "cell_type": "markdown",
      "source": [
        "**3.** En la siguiente celda se inicia con el procedimiento de la **regresión lineal simple** calculando los valores óptimos para los dos coeficientes del modelo **β0** y **β1**.\n",
        "\n",
        "Vale la pena mencionar que existen librerías y funciones diseñadas para facilitar el proceso de una regresión lineal simple, sin embargo, para los fines de este proyecto, se realizó el proceso paso a paso.\n",
        "\n",
        "Para **β0** se calcula\n",
        "\n",
        " ![beta0.png](data:image/png;base64,iVBORw0KGgoAAAANSUhEUgAAAHoAAAApCAYAAAD6Qz29AAAAAXNSR0IArs4c6QAAAARnQU1BAACxjwv8YQUAAAAJcEhZcwAAEnQAABJ0Ad5mH3gAAAVgSURBVHhe7Zo5LG1BGMfnvRalrbV1Ym/sCoWls0YhCAp7FCoUJIJCgShIEB0SKltUltKuEEuiFUr6++7/e/Pdd951tivOuTfO/JKT78zc496Z+Wa+7fjl8yMUP57fUip+OErRHkEp2iMoRXsEpWiPoBTtEZSiPUJIir64uBClpaV04V7xdUZGRkRubi5JN7CtaCh2cHBQ1NbWiqKiIrp/eHiQnypCAcp9fHwUQ0ND4uTkRExNTclPHASVMTv09/f7jo6OZMvnW19f901OTsqWwi5Yw+HhYd/r6yu1Idvb23339/fUdgpVAvUIKhjzCLZP9O7urlhbWxNPT0/ULiwsFF1dXSItLY3aCnu8vb2J2dlZ8s0fHx8iISFB1NTUiNbWVvmEM9hSNIKFzc1N0d3dTQNCEIZgLDExUSwtLcmnIgtEtGa0tLSInp4e2XIHrFtnZycpd2xsjA7J/Py8WF1dFTMzM6K4uFg+ac3x8THpwIizszN5J4GizUDwkJOT41teXpY9f0EAgX6FfbBmVVVVgUAM8PrOzc3JHmew9NFbW1siOjr6k2l5f3+nnamwB9LTy8tLMtOxsbGyV5D5BnFxcSSdwlTR8Cenp6eUN2vZ2NggX41BK+xxeHhIsqCggCTA+iLuwYEpKyuTvc5gqui7uzuS6enpJOFj4FOmp6fJxzkdQHwFLB5XnRobG6nNYOzoxwUf5yY4GFAoB68Ibnt7e+ke/lp7yq1AzIQ5VFdXB4pWmGdHRwf161YtpQnXBX4D/gPJPN+jcPKdyT37eruXtmijB4oR5+fnVNDB85BaGhoafCUlJf/5STfAWDA2vscYgsdmB/wNLswR38OxE9YRfUaYKpqDBwaLjIXiAUcyUKR2cRnMyenAJxgOuFixGBvGAGWbKccK6AbzwRytNo2p6UbwkJKSIluCwv/m5maxt7dHfjqSgSmEqURNmYF5Q9u/WWWPPmwC7V5WbuDm5oYkryXGhtQO4xsdHaW+r5CVlUU6QrBcX18ve/UxVDTb+YyMDJIMvhT4dyVJBn4Db7UwcSxUJLzwwEJwgQf4dz29lLHyh6gNIA+1e1nlvxgD1i07O1v2/CUmJka8vLzI1j9wiLT+14ikpCSS5eXlJM0wVPT19TXJ5ORkkgynA1oQ5KDSs7i4SKcdqZfdnfrdp0cLLwQ2LU4zMgi3iyTg6upKpKamytY/sE5aMLeBgQGKxLEBzKqOmM/BwQHds65MkSb8E7D78CvBIBhDv9a3wNdo/R78RfAz4YB9IyTetFkFck6AwBVjCI4LOJjCejJYN/hvHrcZ/DYRa6/9DiMMTzRsP1hZWSGJHYSTi1NRUVERMEMwLzjlfHoAF1L0Tr+bsEldWFggaWVinQCnGWDd2BTj5CJFhTlHzMPAz9pJs5A+5ufn03wyMzPpN6Af9OumVn50FY0/gunAiwuYBZhMKHd/f5/y5/HxcfmkCPgY9t2RBm+6trY2km7z/PxMEmuJ2jTWEhLjQn072G+bwXWA+Pj4QPDFG6Wuro7qHYbfJ0/2f+zs7ARMnhVsgrThPZuecJhKLTCDSAfD6ULw+0iBQsGO6Q4V3RN9e3tL0o6p4x3EOxewyebTFC7wOhA7PpRT853AMiLiDs5cwoGuojE4bf5sBcw6om34IExue3ubUhu331Xj97nsCX8FU1ZZWSk/dR8uIWvjFztw3o0y6Xehq2gEYlCUXfr6+ujFR1NTEyk9KipKTExMyE/dA0EJNilqyMgtrYoITsMKy8vLI2kF+2C8nwZIUUNNKY1Q/zPmEQzTK8XPQinaIyhFewSlaI+gFO0RlKI9glK0R1CK9ghK0Z5AiD/yOKQrdnX0wgAAAABJRU5ErkJggg==)\n",
        "\n",
        "y para **β1**\n",
        "\n",
        "![beta1.png](data:image/png;base64,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)\n",
        "\n",
        "Ecuaciones para los cuales se calcula previamente el valor promedio de **x** y de **y**."
      ],
      "metadata": {
        "id": "nG_R3eoWNyiS"
      }
    },
    {
      "cell_type": "code",
      "source": [
        "x_barra = sum(x) / len(x)\n",
        "y_barra = sum(y) / len(y)\n",
        "num = sum((xi - x_barra) * (yi - y_barra) for xi,yi in zip(x,y))\n",
        "den = sum((xi - x_barra) ** 2 for xi in x)\n",
        "B1 = num / den\n",
        "B0 = y_barra - B1*x_barra\n",
        "print(\"β0 =\", B0)\n",
        "print(\"β1 =\", B1)"
      ],
      "metadata": {
        "colab": {
          "base_uri": "https://localhost:8080/"
        },
        "id": "v1AtvJudENXv",
        "outputId": "1c7dbf39-d14d-4e29-f51d-e326a450d695"
      },
      "execution_count": 155,
      "outputs": [
        {
          "output_type": "stream",
          "name": "stdout",
          "text": [
            "β0 = -1.3023500570747242\n",
            "β1 = 0.6281284658810408\n"
          ]
        }
      ]
    },
    {
      "cell_type": "markdown",
      "source": [
        "**4.** En la siguiente celda, se grafican de nuevo los datos junto con la **línea de regresión** resultante de la ecuación\n",
        "\n",
        "**y = β0 + β1x**"
      ],
      "metadata": {
        "id": "PltnO68hQ5H8"
      }
    },
    {
      "cell_type": "code",
      "source": [
        "plt.scatter(x,y,label='Datos', alpha=0.75,color=\"blueviolet\");\n",
        "y_r = B0 + B1 * x\n",
        "plt.plot(x,y_r, alpha = 0.75, color = \"forestgreen\", label = \"Línea de regresión\");\n",
        "plt.title(\"Relación entre Nivel de Felicidad y GDP\")\n",
        "plt.xlabel(\"Logarítmo base 10 de GDP\");\n",
        "plt.ylabel(\"Nivel de Felicidad\");\n",
        "plt.grid();\n",
        "plt.legend();"
      ],
      "metadata": {
        "id": "TS9cuNMvHdO5",
        "colab": {
          "base_uri": "https://localhost:8080/",
          "height": 473
        },
        "outputId": "4e73330c-96c7-466e-8c65-421c407e68f8"
      },
      "execution_count": 156,
      "outputs": [
        {
          "output_type": "display_data",
          "data": {
            "text/plain": [
              "<Figure size 640x480 with 1 Axes>"
            ],
            "image/png": "[encoded data removed]"
          },
          "metadata": {}
        }
      ]
    },
    {
      "cell_type": "markdown",
      "source": [
        "**5.** A continuación, se calcula el *Residual Sum of Squares (**RSS**)* apartir de la suma de los cuadrados de los errores (la diferencia) entre los datos y la línea de regresión."
      ],
      "metadata": {
        "id": "-FgmuZLrRe0c"
      }
    },
    {
      "cell_type": "code",
      "source": [
        "rss = sum((yi - yi_r) **2 for yi,yi_r in zip(y,y_r))\n",
        "print(\"RSS = \",rss)"
      ],
      "metadata": {
        "id": "Sv5Z6Dy2JJyB",
        "colab": {
          "base_uri": "https://localhost:8080/"
        },
        "outputId": "b49129dd-41f8-4125-be37-d31ab230d4d2"
      },
      "execution_count": 157,
      "outputs": [
        {
          "output_type": "stream",
          "name": "stdout",
          "text": [
            "RSS =  131.37383177326353\n"
          ]
        }
      ]
    },
    {
      "cell_type": "markdown",
      "source": [
        "**6.** Ahora se calculan el *Error Estándar* (**SE**) e *intervalo de confianza* para **β1**.\n",
        "\n",
        "Apartir del SE se calcula el intervalo de confianza y apartir de este se puede calcular, mediante el estadístico **t-student**, el **valor p** del modelo el cual muestra la **significancia** de la asociación entre el Nivel de Felicidad y el GDP."
      ],
      "metadata": {
        "id": "wruyWyveSD5R"
      }
    },
    {
      "cell_type": "code",
      "source": [
        "import math\n",
        "from scipy.stats import t\n",
        "se_den = (len(x) - 2) * sum((xi-x_barra)**2 for xi in x)\n",
        "se = math.sqrt(rss/se_den)\n",
        "print(\"SE(B1) =\",se)\n",
        "int_conf = [(B1 - (2.23 * se)),(B1 +(2.23 * se))]\n",
        "print(\"\")\n",
        "print(\"Intervalo de confianza de B1 \\n\",\"{\", int_conf[0],\"  \",int_conf[1],\"}\")\n",
        "t_t = B1 / se\n",
        "p = 2 * (1 - t.cdf(abs(t_t),(len(x)-2)))\n",
        "print(\"\")\n",
        "print(\"En esta población, la asociación entre la felicidad y el GDP SI es significativa.\")\n",
        "print(\"Esto se sabe al calcular el valor p =\",p)\n",
        "print(\"el cual es menor a 0.05, lo cual indica que la probabilidad de que\")\n",
        "print(\"la asociación sea una causalidad es muy pequeña y por lo tanto debe\")\n",
        "print(\"existir una correlación.\")"
      ],
      "metadata": {
        "id": "g3SR0oNqMoHd",
        "colab": {
          "base_uri": "https://localhost:8080/"
        },
        "outputId": "76158cf4-5def-4ba0-e94f-1371c1b26eac"
      },
      "execution_count": 158,
      "outputs": [
        {
          "output_type": "stream",
          "name": "stdout",
          "text": [
            "SE(B1) = 0.09983378435340728\n",
            "\n",
            "Intervalo de confianza de B1 \n",
            " { 0.40549912677294253    0.850757804989139 }\n",
            "\n",
            "En esta población, la asociación entre la felicidad y el GDP SI es significativa.\n",
            "Esto se sabe al calcular el valor p = 3.825717964645037e-09\n",
            "el cual es menor a 0.05, lo cual indica que la probabilidad de que\n",
            "la asociación sea una causalidad es muy pequeña y por lo tanto debe\n",
            "existir una correlación.\n"
          ]
        }
      ]
    },
    {
      "cell_type": "markdown",
      "source": [
        "**7.** En la siguiente parte se calculan las métricas *Residual Standard Error* (**RSE**) y **R^2** del modelo.\n",
        "\n",
        "Si el **RSE** es pequeño, los valores de las predicciones serán muy similares a los reales. Mientras que **R^2** indica la proporción en la que el comportamiento de y se puede explicar por x.\n",
        "\n",
        "Para calcular dichas métricas también se calculan el *Total Sum of Squares* (**TSS**) y el *Explained Sum of Squares* (**ESS**)."
      ],
      "metadata": {
        "id": "X3nAlLzVTYL2"
      }
    },
    {
      "cell_type": "code",
      "source": [
        "rse = math.sqrt((1/(len(x)-2)) * sum((yi-yi_r)**2 for yi,yi_r in zip(y,y_r)))\n",
        "print(\"RSE =\",rse)\n",
        "#Calcular R^2\n",
        "tss = sum((yi-y_barra)**2 for yi in y)\n",
        "ess = sum((yi_r - y_barra)**2 for yi_r in y_r)\n",
        "r_sq = ess / tss\n",
        "print(\"R^2 = \",r_sq)\n",
        "print()\n",
        "print(\"En mi opinión, el valor de R^2 es lo suficientemente bueno\")\n",
        "print(\"a pesar de ser relativamente pequeño. Su valor se ve claramente\")\n",
        "print(\"afectado por la dispersión entre los datos, sin embargo, es esto\")\n",
        "print(\"mismo lo que hace que un valor 'pequeño' signifique que el modelo\")\n",
        "print(\"se ajusta de manera correcta a los datos. Aun así, el valor bajo\")\n",
        "print(\"puede significar la influencia de más variables no tomadas en cuenta.\")"
      ],
      "metadata": {
        "colab": {
          "base_uri": "https://localhost:8080/"
        },
        "id": "BVtozQbZahQh",
        "outputId": "c870685a-3cdd-4e05-d8a6-21604278968f"
      },
      "execution_count": 159,
      "outputs": [
        {
          "output_type": "stream",
          "name": "stdout",
          "text": [
            "RSE = 0.9721807858537377\n",
            "R^2 =  0.22166361654970632\n",
            "\n",
            "En mi opinión, el valor de R^2 es lo suficientemente bueno\n",
            "a pesar de ser relativamente pequeño. Su valor se ve claramente\n",
            "afectado por la dispersión entre los datos, sin embargo, es esto\n",
            "mismo lo que hace que un valor 'pequeño' signifique que el modelo\n",
            "se ajusta de manera correcta a los datos. Aun así, el valor bajo\n",
            "puede significar la influencia de más variables no tomadas en cuenta.\n"
          ]
        }
      ]
    },
    {
      "cell_type": "markdown",
      "source": [
        "**8.** Finalmente, con el objetivo de verificar los resultados obtenidos, se importa la librería **statsmodels.api** (**sm**) y se utiliza la función **OLS()** junto con las funciones **pvalues** y *scale* para obtener un resumen de lo que debería ser el modelo más adecuado de regresión lineal simple para la base de datos."
      ],
      "metadata": {
        "id": "8L8ZxvT5UovW"
      }
    },
    {
      "cell_type": "code",
      "source": [
        "import statsmodels.api as sm\n",
        "x = sm.add_constant(x)\n",
        "model = sm.OLS(y,x)\n",
        "result = model.fit()\n",
        "print(result.summary())\n",
        "print(\"P-values:\",result.pvalues)\n",
        "print(\"RSE:\",result.scale ** 0.5)"
      ],
      "metadata": {
        "colab": {
          "base_uri": "https://localhost:8080/"
        },
        "id": "gU56u2x3ebhF",
        "outputId": "b967c1f0-87b7-4bfd-f7b4-6d6d6522a603"
      },
      "execution_count": 160,
      "outputs": [
        {
          "output_type": "stream",
          "name": "stdout",
          "text": [
            "                            OLS Regression Results                            \n",
            "==============================================================================\n",
            "Dep. Variable:                      y   R-squared:                       0.222\n",
            "Model:                            OLS   Adj. R-squared:                  0.216\n",
            "Method:                 Least Squares   F-statistic:                     39.59\n",
            "Date:                Mon, 27 Jan 2025   Prob (F-statistic):           3.83e-09\n",
            "Time:                        06:20:44   Log-Likelihood:                -195.09\n",
            "No. Observations:                 141   AIC:                             394.2\n",
            "Df Residuals:                     139   BIC:                             400.1\n",
            "Df Model:                           1                                         \n",
            "Covariance Type:            nonrobust                                         \n",
            "==============================================================================\n",
            "                 coef    std err          t      P>|t|      [0.025      0.975]\n",
            "------------------------------------------------------------------------------\n",
            "const         -1.3024      1.094     -1.191      0.236      -3.465       0.860\n",
            "x1             0.6281      0.100      6.292      0.000       0.431       0.826\n",
            "==============================================================================\n",
            "Omnibus:                        2.648   Durbin-Watson:                   0.455\n",
            "Prob(Omnibus):                  0.266   Jarque-Bera (JB):                2.523\n",
            "Skew:                          -0.326   Prob(JB):                        0.283\n",
            "Kurtosis:                       2.944   Cond. No.                         148.\n",
            "==============================================================================\n",
            "\n",
            "Notes:\n",
            "[1] Standard Errors assume that the covariance matrix of the errors is correctly specified.\n",
            "P-values: [2.35797533e-01 3.82571783e-09]\n",
            "RSE: 0.9721807858537376\n"
          ]
        }
      ]
    },
    {
      "cell_type": "markdown",
      "source": [
        "### **Referencias**\n",
        "\n",
        "*   Helliwell, J. F., Layard, R., Sachs, J. D., De Neve, J., Aknin, L. B., & Wang, S. (2022, March 18). World Happiness Report 2022. The World Happiness Report. https://worldhappiness.report/ed/2022/#appendices-and-data\n",
        "*   World Bank Open Data. (n.d.). World Bank Open Data. https://data.worldbank.org/indicator/NY.GDP.MKTP.CD\n",
        "\n",
        "\n",
        "\n"
      ],
      "metadata": {
        "id": "mXYBP8imG0Xd"
      }
    },
    {
      "cell_type": "markdown",
      "source": [
        "**Código de honor** Doy mi palabra de que he realizado esta actividad con integridad académica"
      ],
      "metadata": {
        "id": "_2AFxooOHYVV"
      }
    }
  ]
}